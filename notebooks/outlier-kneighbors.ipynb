{
 "cells": [
  {
   "cell_type": "markdown",
   "metadata": {},
   "source": [
    "Import library"
   ]
  },
  {
   "cell_type": "code",
   "execution_count": 1,
   "metadata": {},
   "outputs": [],
   "source": [
    "import pandas as pd\n",
    "import numpy as np\n",
    "import matplotlib.pyplot as plt\n",
    "from sklearn.neighbors import NearestNeighbors"
   ]
  },
  {
   "cell_type": "markdown",
   "metadata": {},
   "source": [
    "Import data"
   ]
  },
  {
   "cell_type": "code",
   "execution_count": 2,
   "metadata": {},
   "outputs": [
    {
     "name": "stdout",
     "output_type": "stream",
     "text": [
      "<class 'pandas.core.frame.DataFrame'>\n",
      "Int64Index: 70710 entries, 0 to 164157\n",
      "Data columns (total 16 columns):\n",
      " #   Column                         Non-Null Count  Dtype  \n",
      "---  ------                         --------------  -----  \n",
      " 0   ï»¿IdConcurso                  70710 non-null  object \n",
      " 1   IdFase                         70710 non-null  object \n",
      " 2   Orden                          70710 non-null  int64  \n",
      " 3   IdEscuela                      70710 non-null  object \n",
      " 4   NivelEscolarCode               70710 non-null  int64  \n",
      " 5   Grado                          70710 non-null  object \n",
      " 6   IdEstudiante                   70710 non-null  object \n",
      " 7   IdMaratonFaseEstudiante        70710 non-null  object \n",
      " 8   SeleccionadoParaSiguienteFase  70710 non-null  int64  \n",
      " 9   IdMaratonFaseTask              70710 non-null  object \n",
      " 10  IsPrueba                       70710 non-null  int64  \n",
      " 11  Orden.1                        70710 non-null  int64  \n",
      " 12  IsActivo                       70710 non-null  int64  \n",
      " 13  IdMaratonFaseTaskEstudiante    70710 non-null  object \n",
      " 14  Calificacion                   70710 non-null  float64\n",
      " 15  Tiempo                         70710 non-null  float64\n",
      "dtypes: float64(2), int64(6), object(8)\n",
      "memory usage: 9.2+ MB\n"
     ]
    }
   ],
   "source": [
    "df = pd.read_csv('../data/dataset_concurso.csv', encoding='ISO-8859-1')\n",
    "df = df.dropna()\n",
    "df.info()"
   ]
  },
  {
   "cell_type": "code",
   "execution_count": 3,
   "metadata": {},
   "outputs": [
    {
     "data": {
      "text/plain": [
       "Text(0, 0.5, 'Calificacion')"
      ]
     },
     "execution_count": 3,
     "metadata": {},
     "output_type": "execute_result"
    },
    {
     "data": {
      "image/png": "[encoded data removed]",
      "text/plain": [
       "<Figure size 432x288 with 1 Axes>"
      ]
     },
     "metadata": {
      "needs_background": "light"
     },
     "output_type": "display_data"
    }
   ],
   "source": [
    "dfExamen = df[['IdEstudiante', 'IdEscuela', 'Grado', 'Calificacion', 'Tiempo', 'IsPrueba']].where(df['IsPrueba']==0)\n",
    "\n",
    "dfExamen = dfExamen.dropna()\n",
    "dfExamen.drop_duplicates(keep='first', inplace=True)\n",
    "\n",
    "#plt.scatter(dfExamen['Tiempo'], dfExamen['Calificacion'], marker = 'x')\n",
    "#plt.xlabel('Tiempo')\n",
    "#plt.ylabel('Calificacion')\n",
    "\n",
    "# scatterplot of inputs data\n",
    "#dfCalificacionesTiempo = dfExamen[['Tiempo', 'Calificacion']]\n",
    "plt.scatter(dfExamen['Tiempo'], dfExamen['Calificacion'])\n",
    "plt.xlabel('Tiempo')\n",
    "plt.ylabel('Calificacion')\n"
   ]
  },
  {
   "cell_type": "code",
   "execution_count": 4,
   "metadata": {},
   "outputs": [],
   "source": [
    "# Acotamos la información\n",
    "dfCalificacionesTiempo = dfExamen[['Tiempo', 'Calificacion']]\n",
    "X = dfCalificacionesTiempo.values"
   ]
  },
  {
   "cell_type": "markdown",
   "metadata": {},
   "source": [
    "Modeling"
   ]
  },
  {
   "cell_type": "code",
   "execution_count": 5,
   "metadata": {},
   "outputs": [],
   "source": [
    "# Inicializamos el modelo\n",
    "# Definimos la k en 5, podemos ajustar de acuerdo al modelo\n",
    "nbrs = NearestNeighbors(n_neighbors = 5)\n"
   ]
  },
  {
   "cell_type": "code",
   "execution_count": 6,
   "metadata": {},
   "outputs": [
    {
     "data": {
      "text/plain": [
       "NearestNeighbors()"
      ]
     },
     "execution_count": 6,
     "metadata": {},
     "output_type": "execute_result"
    }
   ],
   "source": [
    "# Ajustamos el modelo\n",
    "nbrs.fit(X)"
   ]
  },
  {
   "cell_type": "code",
   "execution_count": 7,
   "metadata": {},
   "outputs": [
    {
     "data": {
      "text/plain": [
       "(array([[0.        , 0.06      , 0.06324555, 0.09055385, 0.15033296],\n",
       "        [0.        , 0.        , 0.03      , 0.06      , 0.16      ],\n",
       "        [0.        , 0.04123106, 0.12529964, 0.12649111, 0.14866069],\n",
       "        ...,\n",
       "        [0.        , 0.02      , 0.05      , 0.07211103, 0.08062258],\n",
       "        [0.        , 0.02      , 0.07071068, 0.08944272, 0.1118034 ],\n",
       "        [0.        , 0.06      , 0.10049876, 0.13152946, 0.2       ]]),\n",
       " array([[    0, 20201,  5592,  1227,  6552],\n",
       "        [ 1751,     1, 22773, 11795,  1056],\n",
       "        [    2,  6630, 22257, 23072, 11709],\n",
       "        ...,\n",
       "        [24123, 13801, 10649, 23883, 16691],\n",
       "        [24124,  8425,  1341, 20782, 15777],\n",
       "        [24125,  9698, 15204, 19867, 16912]]))"
      ]
     },
     "execution_count": 7,
     "metadata": {},
     "output_type": "execute_result"
    }
   ],
   "source": [
    "# Obtenemos distancias e indices de los k-vecinos del modelo\n",
    "distances, indexes = nbrs.kneighbors(X)\n",
    "distances,indexes"
   ]
  },
  {
   "cell_type": "code",
   "execution_count": 8,
   "metadata": {},
   "outputs": [
    {
     "data": {
      "text/plain": [
       "[<matplotlib.lines.Line2D at 0x7fc0c42fdf10>]"
      ]
     },
     "execution_count": 8,
     "metadata": {},
     "output_type": "execute_result"
    },
    {
     "data": {
      "image/png": "[encoded data removed]",
      "text/plain": [
       "<Figure size 432x288 with 1 Axes>"
      ]
     },
     "metadata": {
      "needs_background": "light"
     },
     "output_type": "display_data"
    }
   ],
   "source": [
    "# Graficamos la media de las k-distancias para cada uno de los datos\n",
    "plt.plot(distances.mean(axis =1))"
   ]
  },
  {
   "cell_type": "code",
   "execution_count": 9,
   "metadata": {},
   "outputs": [
    {
     "data": {
      "text/plain": [
       "(array([  933,  2683,  2998,  4261,  8336,  9038,  9442, 17120, 21133,\n",
       "        22981]),)"
      ]
     },
     "execution_count": 9,
     "metadata": {},
     "output_type": "execute_result"
    }
   ],
   "source": [
    "# Definimos una k-distancia para considerar al dato como outlier, en este caso utilizamos el 2\n",
    "outlier_index = np.where(distances.mean(axis = 1) > 2)\n",
    "outlier_index"
   ]
  },
  {
   "cell_type": "code",
   "execution_count": 10,
   "metadata": {},
   "outputs": [
    {
     "data": {
      "text/html": [
       "<div>\n",
       "<style scoped>\n",
       "    .dataframe tbody tr th:only-of-type {\n",
       "        vertical-align: middle;\n",
       "    }\n",
       "\n",
       "    .dataframe tbody tr th {\n",
       "        vertical-align: top;\n",
       "    }\n",
       "\n",
       "    .dataframe thead th {\n",
       "        text-align: right;\n",
       "    }\n",
       "</style>\n",
       "<table border=\"1\" class=\"dataframe\">\n",
       "  <thead>\n",
       "    <tr style=\"text-align: right;\">\n",
       "      <th></th>\n",
       "      <th>Tiempo</th>\n",
       "      <th>Calificacion</th>\n",
       "    </tr>\n",
       "  </thead>\n",
       "  <tbody>\n",
       "    <tr>\n",
       "      <th>6318</th>\n",
       "      <td>147.00</td>\n",
       "      <td>4.79</td>\n",
       "    </tr>\n",
       "    <tr>\n",
       "      <th>18183</th>\n",
       "      <td>135.63</td>\n",
       "      <td>6.52</td>\n",
       "    </tr>\n",
       "    <tr>\n",
       "      <th>20253</th>\n",
       "      <td>9.53</td>\n",
       "      <td>8.59</td>\n",
       "    </tr>\n",
       "    <tr>\n",
       "      <th>28875</th>\n",
       "      <td>175.37</td>\n",
       "      <td>6.90</td>\n",
       "    </tr>\n",
       "    <tr>\n",
       "      <th>56655</th>\n",
       "      <td>128.32</td>\n",
       "      <td>2.88</td>\n",
       "    </tr>\n",
       "    <tr>\n",
       "      <th>61401</th>\n",
       "      <td>140.63</td>\n",
       "      <td>0.33</td>\n",
       "    </tr>\n",
       "    <tr>\n",
       "      <th>64167</th>\n",
       "      <td>146.27</td>\n",
       "      <td>5.70</td>\n",
       "    </tr>\n",
       "    <tr>\n",
       "      <th>116487</th>\n",
       "      <td>127.50</td>\n",
       "      <td>2.92</td>\n",
       "    </tr>\n",
       "    <tr>\n",
       "      <th>143739</th>\n",
       "      <td>145.67</td>\n",
       "      <td>3.80</td>\n",
       "    </tr>\n",
       "    <tr>\n",
       "      <th>156327</th>\n",
       "      <td>242.47</td>\n",
       "      <td>4.50</td>\n",
       "    </tr>\n",
       "  </tbody>\n",
       "</table>\n",
       "</div>"
      ],
      "text/plain": [
       "        Tiempo  Calificacion\n",
       "6318    147.00          4.79\n",
       "18183   135.63          6.52\n",
       "20253     9.53          8.59\n",
       "28875   175.37          6.90\n",
       "56655   128.32          2.88\n",
       "61401   140.63          0.33\n",
       "64167   146.27          5.70\n",
       "116487  127.50          2.92\n",
       "143739  145.67          3.80\n",
       "156327  242.47          4.50"
      ]
     },
     "execution_count": 10,
     "metadata": {},
     "output_type": "execute_result"
    }
   ],
   "source": [
    "# Filtramos outliers\n",
    "outlier_values = dfCalificacionesTiempo.iloc[outlier_index]\n",
    "outlier_values"
   ]
  },
  {
   "cell_type": "code",
   "execution_count": 11,
   "metadata": {},
   "outputs": [
    {
     "data": {
      "text/plain": [
       "<matplotlib.collections.PathCollection at 0x7fc0c4ae2ac0>"
      ]
     },
     "execution_count": 11,
     "metadata": {},
     "output_type": "execute_result"
    },
    {
     "data": {
      "image/png": "[encoded data removed]",
      "text/plain": [
       "<Figure size 432x288 with 1 Axes>"
      ]
     },
     "metadata": {
      "needs_background": "light"
     },
     "output_type": "display_data"
    }
   ],
   "source": [
    "# Graficar datos originales\n",
    "plt.scatter(dfCalificacionesTiempo[\"Tiempo\"], dfCalificacionesTiempo[\"Calificacion\"], color = \"b\")\n",
    "# Graficar outliers\n",
    "plt.scatter(outlier_values[\"Tiempo\"], outlier_values[\"Calificacion\"], color = \"r\")"
   ]
  },
  {
   "cell_type": "code",
   "execution_count": null,
   "metadata": {},
   "outputs": [],
   "source": []
  }
 ],
 "metadata": {
  "kernelspec": {
   "display_name": "Python 3",
   "language": "python",
   "name": "python3"
  },
  "language_info": {
   "codemirror_mode": {
    "name": "ipython",
    "version": 3
   },
   "file_extension": ".py",
   "mimetype": "text/x-python",
   "name": "python",
   "nbconvert_exporter": "python",
   "pygments_lexer": "ipython3",
   "version": "3.8.5"
  }
 },
 "nbformat": 4,
 "nbformat_minor": 4
}
